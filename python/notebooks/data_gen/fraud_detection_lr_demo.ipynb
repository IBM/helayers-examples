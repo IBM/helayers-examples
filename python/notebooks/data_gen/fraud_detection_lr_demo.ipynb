{
 "cells": [
  {
   "cell_type": "markdown",
   "source": [
    "# Credit Card Fraud Detection\n"
   ],
   "metadata": {}
  },
  {
   "cell_type": "markdown",
   "source": [
    "### A logistic regression model for fraud detection. \n",
    "#### This demo uses the Credit Card Fraud Detection dataset, originally taken from: https://www.kaggle.com/mlg-ulb/creditcardfraud\n"
   ],
   "metadata": {
    "_uuid": "df1dc8a95496e2ea0668c040193b5c5e80cabbb7"
   }
  },
  {
   "cell_type": "code",
   "execution_count": null,
   "source": [
    "import os\n",
    "import warnings\n",
    "warnings.filterwarnings(\"ignore\")\n",
    "##### For reproducibility\n",
    "seed_value= 1\n",
    "os.environ['PYTHONHASHSEED']=str(seed_value)\n",
    "import random\n",
    "random.seed(seed_value)\n",
    "#####\n",
    "import h5py\n",
    "import pandas as pd \n",
    "from sklearn.model_selection import train_test_split\n",
    "from sklearn import metrics\n",
    "import sklearn_json as skljson\n",
    "from sklearn.linear_model import LogisticRegression\n",
    "#####\n",
    "# import utils\n",
    "import sys\n",
    "path_to_utils='..'\n",
    "sys.path.append(path_to_utils)\n",
    "import utils\n",
    "\n",
    "PATH = os.path.join('..', 'data', 'lr_fraud')\n",
    "if not os.path.exists(PATH):\n",
    "    os.makedirs(PATH)\n",
    "\n",
    "print(\"misc. init complete\");"
   ],
   "outputs": [],
   "metadata": {}
  },
  {
   "cell_type": "markdown",
   "source": [
    "### Read Dataset"
   ],
   "metadata": {}
  },
  {
   "cell_type": "code",
   "execution_count": null,
   "source": [
    "df = pd.read_csv(os.path.join(utils.get_data_sets_dir(path_to_utils), 'net_fraud', 'creditcard.csv'))\n",
    "\n",
    "print(f'Reading {df.shape[0]} samples')\n",
    "\n",
    "X = df.loc[:, df.columns.tolist()[1:30]].values\n",
    "Y = df.loc[:, 'Class'].values\n",
    "print(f'number of features: {X.shape[1]}')\n",
    "\n",
    "x_train, x_test, y_train, y_test = train_test_split(X, Y, test_size=0.33, stratify=Y, random_state=0)\n",
    "\n",
    "y_train = y_train.reshape(y_train.shape[0], -1)\n",
    "y_test = y_test.reshape(y_test.shape[0], -1)\n",
    "\n",
    "print(\"Training data ready\")"
   ],
   "outputs": [],
   "metadata": {}
  },
  {
   "cell_type": "markdown",
   "source": [
    "### Save dataset "
   ],
   "metadata": {}
  },
  {
   "cell_type": "code",
   "execution_count": null,
   "source": [
    "def save_data_set(x, y, data_type, s=''):\n",
    "    print(\"Saving x_{} of shape {}\".format(data_type, x.shape))\n",
    "    xf = h5py.File(os.path.join(PATH, f'x_{data_type}{s}.h5'), 'w')\n",
    "    xf.create_dataset('x_{}'.format(data_type), data=x)\n",
    "    xf.close()\n",
    "\n",
    "    yf = h5py.File(os.path.join(PATH, f'y_{data_type}{s}.h5'), 'w')\n",
    "    yf.create_dataset(f'y_{data_type}', data=y)\n",
    "    yf.close()\n",
    "    \n",
    "save_data_set(x_test, y_test, data_type='test')"
   ],
   "outputs": [],
   "metadata": {}
  },
  {
   "cell_type": "markdown",
   "source": [
    "### Logistic Regression Train"
   ],
   "metadata": {}
  },
  {
   "cell_type": "code",
   "execution_count": null,
   "source": [
    "lr = LogisticRegression(C=0.1)\n",
    "lr.fit(x_train, y_train)\n",
    "\n",
    "print('LR model ready')"
   ],
   "outputs": [],
   "metadata": {}
  },
  {
   "cell_type": "markdown",
   "source": [
    "### Confusion Matrix - TEST"
   ],
   "metadata": {}
  },
  {
   "cell_type": "code",
   "execution_count": null,
   "source": [
    "batch_size = 8192\n",
    "batch_x_test = x_test[0:batch_size,:]\n",
    "batch_y_test = y_test[0:batch_size,:]\n",
    "\n",
    "batch_y_pred = lr.predict(batch_x_test)\n",
    "f,t,thresholds = metrics.roc_curve(batch_y_test, batch_y_pred)\n",
    "cm = metrics.confusion_matrix(batch_y_test, batch_y_pred)\n",
    "print(f\"AUC Score: {metrics.auc(f,t):.3f}\")\n",
    "print(\"Classification report:\")\n",
    "print(metrics.classification_report(batch_y_test, batch_y_pred))\n",
    "print(\"Confusion Matrix:\")\n",
    "print(cm)"
   ],
   "outputs": [],
   "metadata": {}
  },
  {
   "cell_type": "markdown",
   "source": [
    "### Serialize model and weights"
   ],
   "metadata": {}
  },
  {
   "cell_type": "code",
   "execution_count": null,
   "source": [
    "skljson.to_json(lr, os.path.join(PATH, 'model.json'))\n",
    "print(\"Saved model to \",PATH)"
   ],
   "outputs": [],
   "metadata": {}
  }
 ],
 "metadata": {
  "kernelspec": {
   "display_name": "Python 3",
   "language": "python",
   "name": "python3"
  },
  "language_info": {
   "codemirror_mode": {
    "name": "ipython",
    "version": 3
   },
   "file_extension": ".py",
   "mimetype": "text/x-python",
   "name": "python",
   "nbconvert_exporter": "python",
   "pygments_lexer": "ipython3",
   "version": "3.6.9"
  }
 },
 "nbformat": 4,
 "nbformat_minor": 4
}
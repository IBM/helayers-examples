{
 "cells": [
  {
   "cell_type": "markdown",
   "metadata": {},
   "source": [
    "# Tile Tensor Tutorial\n",
    "\n",
    "<br>"
   ]
  },
  {
   "cell_type": "code",
   "execution_count": null,
   "metadata": {},
   "outputs": [],
   "source": [
    "import unittest\n",
    "import numpy as np\n",
    "import sys\n",
    "import pyhelayers\n",
    "import utils \n",
    "\n",
    "utils.verify_memory()"
   ]
  },
  {
   "cell_type": "markdown",
   "metadata": {},
   "source": [
    "<br>\n",
    "\n",
    "#### Initialize the HeContext"
   ]
  },
  {
   "cell_type": "code",
   "execution_count": null,
   "metadata": {},
   "outputs": [],
   "source": [
    "requirement = pyhelayers.HeConfigRequirement(\n",
    "    num_slots = 4,\n",
    "    multiplication_depth = 10,\n",
    "    fractional_part_precision = 50,\n",
    "    integer_part_precision = 10)\n",
    "requirement.security_level = 0 # insecure\n",
    "\n",
    "he_context = pyhelayers.DefaultContext()\n",
    "he_context.init(requirement)"
   ]
  },
  {
   "cell_type": "markdown",
   "metadata": {},
   "source": [
    "<br>\n",
    "\n",
    "#### Encrypt two 2x3 tensors"
   ]
  },
  {
   "cell_type": "code",
   "execution_count": null,
   "metadata": {},
   "outputs": [],
   "source": [
    "shape = pyhelayers.TTShape()\n",
    "shape.add_dim(pyhelayers.TTDim(2, 2))\n",
    "shape.add_dim(pyhelayers.TTDim(3, 2))"
   ]
  },
  {
   "cell_type": "code",
   "execution_count": null,
   "metadata": {},
   "outputs": [],
   "source": [
    "tt_encoder = pyhelayers.TTEncoder(he_context)\n",
    "\n",
    "vals1 = range(6)\n",
    "vals1 = np.reshape(vals1, (2, 3))\n",
    "ctt1 = tt_encoder.encode_encrypt(shape, vals1)"
   ]
  },
  {
   "cell_type": "code",
   "execution_count": null,
   "metadata": {},
   "outputs": [],
   "source": [
    "vals2 = [i + 6 for i in range(6)]\n",
    "vals2 = np.reshape(vals2, (2, 3))\n",
    "ctt2 = tt_encoder.encode_encrypt(shape, vals2)"
   ]
  },
  {
   "cell_type": "markdown",
   "metadata": {},
   "source": [
    "<br>\n",
    "\n",
    "#### Perform HE operations"
   ]
  },
  {
   "cell_type": "code",
   "execution_count": null,
   "metadata": {},
   "outputs": [],
   "source": [
    "ctt1.add(ctt2)"
   ]
  },
  {
   "cell_type": "code",
   "execution_count": null,
   "metadata": {},
   "outputs": [],
   "source": [
    "add_res = tt_encoder.decrypt_decode_double(ctt1)\n",
    "print(\"We added encryption of:\")\n",
    "print(vals1)\n",
    "print(\"With encryption of:\")\n",
    "print(vals2)\n",
    "print(\"Resulting with encryption of:\")\n",
    "print(add_res)"
   ]
  },
  {
   "cell_type": "code",
   "execution_count": null,
   "metadata": {},
   "outputs": [],
   "source": [
    "ctt1.multiply(ctt2)"
   ]
  },
  {
   "cell_type": "code",
   "execution_count": null,
   "metadata": {},
   "outputs": [],
   "source": [
    "mul_res = tt_encoder.decrypt_decode_double(ctt1)\n",
    "print(\"We multiplied encryption of:\")\n",
    "print(add_res)\n",
    "print(\"With encryption of:\")\n",
    "print(vals2)\n",
    "print(\"Resulting with encryption of:\")\n",
    "print(mul_res)"
   ]
  },
  {
   "cell_type": "markdown",
   "metadata": {},
   "source": [
    "<br>\n",
    "\n",
    "#### Generate a random tensor\n",
    "All values are in the range [500, 1000)."
   ]
  },
  {
   "cell_type": "code",
   "execution_count": null,
   "metadata": {},
   "outputs": [],
   "source": [
    "shape = pyhelayers.TTShape()\n",
    "shape.add_dim(pyhelayers.TTDim(2, 2))\n",
    "shape.add_dim(pyhelayers.TTDim(3, 2))\n",
    "lower_bound = 500\n",
    "upper_bound = 1000\n",
    "vals3 = np.random.default_rng().uniform(lower_bound,\n",
    " upper_bound,\n",
    " shape.get_original_sizes())\n",
    "print(vals3)"
   ]
  },
  {
   "cell_type": "markdown",
   "metadata": {},
   "source": [
    "<br>\n",
    "\n",
    "#### Encrypt the random tensor"
   ]
  },
  {
   "cell_type": "code",
   "execution_count": null,
   "metadata": {},
   "outputs": [],
   "source": [
    "tt_encoder = pyhelayers.TTEncoder(he_context)\n",
    "tt = tt_encoder.encode_encrypt(shape, vals3)"
   ]
  },
  {
   "cell_type": "markdown",
   "metadata": {},
   "source": [
    "<br>\n",
    "\n",
    "#### Compute element-wise inverse of \"tt\" CTileTensor\n",
    "Note that the inverse function expects to receive a lower and an upper bound on all of the values of the given CTileTensor. See FunctionEvaluator::inverse() for more details."
   ]
  },
  {
   "cell_type": "code",
   "execution_count": null,
   "metadata": {},
   "outputs": [],
   "source": [
    "fe = pyhelayers.TTFunctionEvaluator(he_context)\n",
    "tt = fe.inverse(tt, lower_bound, upper_bound)"
   ]
  },
  {
   "cell_type": "markdown",
   "metadata": {},
   "source": [
    "<br>\n",
    "\n",
    "#### Decrypt and decode results"
   ]
  },
  {
   "cell_type": "code",
   "execution_count": null,
   "metadata": {},
   "outputs": [],
   "source": [
    "inverse_res = tt_encoder.decrypt_decode_double(tt)\n",
    "print(\"We computed elementwise inverse of:\")\n",
    "print(vals3)\n",
    "print(\"Resulting with encryption of:\")\n",
    "print(inverse_res)"
   ]
  },
  {
   "cell_type": "markdown",
   "metadata": {},
   "source": [
    "<br>\n",
    "\n",
    "#### Duplicate over dimension\n",
    "For some computations it is useful to have the tensor data replicated several times inside the tile slots. Meaning that for some dimension, the original size is 1, but each element of the original tensor is replicated along this dimension. When performing operations with another Tile Tensor with compatible shape (namely, The tensors A[n1,...,nk] and B[m1,...,mk] have compatible shapes if mi =ni or either ni =1 or mi =1, for i≤k), we automatically expend the replicated dimensions to match larger size."
   ]
  },
  {
   "cell_type": "code",
   "execution_count": null,
   "metadata": {},
   "outputs": [],
   "source": [
    "\n",
    "# This defines the basic tile shape. \n",
    "# It means we'll use each ciphertext as a tile of size 2x2 (each ciphertext has 4 slots).\n",
    "baseShape = pyhelayers.TTShape([2,2])\n",
    "\n",
    "# For the first tensor, we defined both dimensions to be duplicated.\n",
    "shape1=baseShape.get_with_duplicated_dims([0,1])\n",
    "\n",
    "# For the second tensor, we'll just use the base shape:\n",
    "shape2=baseShape"
   ]
  },
  {
   "cell_type": "markdown",
   "metadata": {},
   "source": [
    "Now we'll define the tensors we want to use: "
   ]
  },
  {
   "cell_type": "code",
   "execution_count": null,
   "metadata": {},
   "outputs": [],
   "source": [
    "vals1 = np.random.default_rng().uniform(1, 2, [1,1])\n",
    "vals2 = np.random.default_rng().uniform(1, 2, [165,94])"
   ]
  },
  {
   "cell_type": "markdown",
   "metadata": {},
   "source": [
    "And pack them into the tile tensors with their respective shapes:"
   ]
  },
  {
   "cell_type": "code",
   "execution_count": null,
   "metadata": {},
   "outputs": [],
   "source": [
    "tt_encoder = pyhelayers.TTEncoder(he_context)\n",
    "\n",
    "ctt1 = tt_encoder.encode_encrypt(shape1, vals1)\n",
    "ctt2 = tt_encoder.encode_encrypt(shape2, vals2)\n",
    "\n",
    "# We can print the shapes of the two tile tensors:\n",
    "print('Encrypted tile tensor 1 shape:',ctt1.get_shape())\n",
    "print('Encrypted tile tensor 1 size in bytes:',len(ctt1.save_to_buffer()))\n",
    "print('Encrypted tile tensor 2 shape:',ctt2.get_shape())\n",
    "print('Encrypted tile tensor 2 size in bytes:',len(ctt2.save_to_buffer()))"
   ]
  },
  {
   "cell_type": "markdown",
   "metadata": {},
   "source": [
    "In the prinout of the shapes, the numbers to the left of the / indicate the tensor size, or * if it is duplicated.\n",
    "So one tensor is fully duplicated (two *), and the other has size [2,3].\n",
    "The numbers to the right of the / indicate the size of the tiles used to store the tensors. \n",
    "\n",
    "Since the shapes are compatible, we can now multiply."
   ]
  },
  {
   "cell_type": "code",
   "execution_count": null,
   "metadata": {},
   "outputs": [],
   "source": [
    "ctt1.multiply(ctt2)"
   ]
  },
  {
   "cell_type": "markdown",
   "metadata": {},
   "source": [
    "Notice that the shape of the first tensor changed."
   ]
  },
  {
   "cell_type": "code",
   "execution_count": null,
   "metadata": {},
   "outputs": [],
   "source": [
    "print('Encrypted tile tensor 1 new shape:',ctt1.get_shape())"
   ]
  },
  {
   "cell_type": "markdown",
   "metadata": {},
   "source": [
    "And now we can decrypt the result:"
   ]
  },
  {
   "cell_type": "code",
   "execution_count": null,
   "metadata": {},
   "outputs": [],
   "source": [
    "res = tt_encoder.decrypt_decode_double(ctt1)\n",
    "print(res)"
   ]
  },
  {
   "cell_type": "markdown",
   "metadata": {},
   "source": [
    "<br>\n",
    "\n",
    "#### Matrix multiplication\n",
    "Here we demonstrate how to perform a matrix multiplication of two matrices of size 3X5 and 5X2 efficiently. We accomplish this by using the 'Duplicate over dimension' feature (see explanation above), which allows us to duplicate values along a specific dimension without setting them manually."
   ]
  },
  {
   "cell_type": "code",
   "execution_count": null,
   "metadata": {},
   "outputs": [],
   "source": [
    "requirement = pyhelayers.HeConfigRequirement(\n",
    "    num_slots = 32,\n",
    "    multiplication_depth = 10,\n",
    "    fractional_part_precision = 50,\n",
    "    integer_part_precision = 10)\n",
    "requirement.security_level = 0 # insecure\n",
    "\n",
    "he_context = pyhelayers.DefaultContext()\n",
    "he_context.init(requirement)"
   ]
  },
  {
   "cell_type": "code",
   "execution_count": null,
   "metadata": {},
   "outputs": [],
   "source": [
    "# Common base shape for both matrices\n",
    "baseShape=pyhelayers.TTShape([4,2,4]) # Tile sizes only\n",
    "shape1=baseShape.get_with_duplicated_dim(2)\n",
    "shape2=baseShape.get_with_duplicated_dim(0)"
   ]
  },
  {
   "cell_type": "code",
   "execution_count": null,
   "metadata": {},
   "outputs": [],
   "source": [
    "vals1 = np.random.default_rng().uniform(1, 2, [3,5,1])\n",
    "vals2 = np.random.default_rng().uniform(1, 2, [1,5,2])"
   ]
  },
  {
   "cell_type": "code",
   "execution_count": null,
   "metadata": {},
   "outputs": [],
   "source": [
    "tt_encoder = pyhelayers.TTEncoder(he_context)\n",
    "ctt1 = tt_encoder.encode_encrypt(shape1, vals1)\n",
    "ctt2 = tt_encoder.encode_encrypt(shape2, vals2)"
   ]
  },
  {
   "cell_type": "code",
   "execution_count": null,
   "metadata": {},
   "outputs": [],
   "source": [
    "ctt1.multiply_and_sum(ctt2, 1)"
   ]
  },
  {
   "cell_type": "code",
   "execution_count": null,
   "metadata": {},
   "outputs": [],
   "source": [
    "res = tt_encoder.decrypt_decode_double(ctt1)\n",
    "print(f\"Mean error: {np.linalg.norm(np.dot(vals1[:, :, 0],vals2[0, :, :])-res[:, 0, :]):.16f}\")"
   ]
  }
 ],
 "metadata": {
  "interpreter": {
   "hash": "31f2aee4e71d21fbe5cf8b01ff0e069b9275f58929596ceb00d14d90e3e16cd6"
  },
  "kernelspec": {
   "display_name": "Python 3 (ipykernel)",
   "language": "python",
   "name": "python3"
  },
  "language_info": {
   "codemirror_mode": {
    "name": "ipython",
    "version": 3
   },
   "file_extension": ".py",
   "mimetype": "text/x-python",
   "name": "python",
   "nbconvert_exporter": "python",
   "pygments_lexer": "ipython3",
   "version": "3.8.10"
  }
 },
 "nbformat": 4,
 "nbformat_minor": 4
}

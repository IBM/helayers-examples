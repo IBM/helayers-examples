{
 "cells": [
  {
   "cell_type": "markdown",
   "metadata": {
    "id": "B5tb-KXYJC4s"
   },
   "source": [
    "# Tile tensor basics\n"
   ]
  },
  {
   "cell_type": "markdown",
   "metadata": {
    "id": "iyILdWC1JC4u"
   },
   "source": [
    "## Introduction\n",
    "This notebook introduces the basics of using packing agnostic programming with [HELayers](https://ibm.github.io/helayers/). Specifically, how to include the [pyhelayers](https://pypi.org/project/pyhelayers/) library, initialize an encryption context and perform some simple encryption and decryption operations. \n",
    "HELayers and the concept of tile tensors rely on the paper\n",
    "\n",
    "> Ehud Aharoni, Allon Adir, Moran Baruch, Nir Drucker, Gilad Ezov, Ariel Farkash, Lev Greenberg, Ramy Masalha, Guy Moshkowich, Dov Murik, Hayim Shaul, and Omri Soceanu. 2020. HeLayers: A Tile Tensors Framework for Large Neural Networks on Encrypted Data. Privacy Enhancing Technology Symposium (PETs) 2023, [Read more](https://petsymposium.org/popets/2023/popets-2023-0020.php)\n",
    "\n",
    "See also an overview here: [tile tensors](https://ibm.github.io/helayers/user/tile_tensors.html).\n",
    "\n",
    "<details>\n",
    "\n",
    "<summary>Press for other literature on HELayers and tile tensors</summary>\n",
    "\n",
    "#### Packing\n",
    "\n",
    "* Ehud Aharoni, Moran Baruch, Nir Drucker, Gilad Ezov, Eyal Kushnir, Guy Moshkowich, and Omri Soceanu. 2022. Poster: Secure SqueezeNet inference in 4 minutes. 43rd IEEE Symposium on Security and Privacy (2022). [Read more](https://arxiv.org/abs/2011.01805)\n",
    "* Ehud Aharoni, Nir Drucker, Gilad Ezov, Hayim Shaul, and Omri Soceanu. 2022. Complex Encoded Tile Tensors: Accelerating Encrypted Analytics. IEEE Security & Privacy 01, 2–10.\n",
    "[Read more](https://doi.org/10.1109/MSEC.2022.3181689)\n",
    "\n",
    "#### HELayers\n",
    "\n",
    "* John Buselli. 2021. Secure AI workloads using fully homomorphic encrypted data. (Sep 2021). [Read more](https://developer.ibm.com/blogs/secure-ai-workloads-using-fully-homomorphic-encrypted-data/)\n",
    "* IBM. 2021. Fully Homomorphic Encryption (FHE) - Never decrypt your data, even during computation. [Read more](https://fhe-website.mybluemix.net/?_ga=2.94032030.24152571.1666765225-1379575878.1644260568)\n",
    "\n",
    "</details>\n",
    "\n",
    "<br/>This tutorial assumes you are already familiar with the concept of homomorphic encryption (HE), with the CKKS scheme and the operations it supports. \n",
    "\n",
    "<details>\n",
    "\n",
    "<summary>If not, press the button for relevant references</summary>\n",
    "\n",
    "* Cheon, J. H., Kim, A., Kim, M., and Song, Y. (2017). Homomorphic Encryption for Arithmetic of Approximate Numbers. In T. Takagi and T. Peyrin (Eds.), Advances in Cryptology -- ASIACRYPT 2017 (Vol. 1, pp. 409–437). Springer International Publishing. [Read more](https://doi.org/10.1007/978-3-319-70694-8_15)\n",
    "\n",
    "* Cheon, J. H., Han, K., Kim, A., Kim, M., and Song, Y. (2019). A Full RNS Variant of Approximate Homomorphic Encryption. In C. Cid and M. J. Jacobson Jr. (Eds.), Selected Areas in Cryptography -- SAC 2018 (pp. 347–368). Springer International Publishing. [Read more](https://doi.org/10.1007/978-3-030-10970-7_16)\n",
    "    \n",
    "</details>\n",
    "\n",
    "\n",
    "<br>  "
   ]
  },
  {
   "cell_type": "markdown",
   "metadata": {
    "id": "4nxd9HX3JC4x"
   },
   "source": [
    "We start by importing the required packages for this tutorial"
   ]
  },
  {
   "cell_type": "code",
   "execution_count": null,
   "metadata": {},
   "outputs": [],
   "source": [
    "import numpy as np\n",
    "import math as math"
   ]
  },
  {
   "cell_type": "markdown",
   "metadata": {
    "id": "03H7vkJ0JC4y"
   },
   "source": [
    "## Step 1. Importing and initializing\n",
    "\n",
    "Pyhelayers library is the Python API for HELayers, which we first need to import. \n",
    "\n",
    "For demo purposes, we turn on pretty printing of tiles."
   ]
  },
  {
   "cell_type": "code",
   "execution_count": null,
   "metadata": {},
   "outputs": [],
   "source": [
    "import pyhelayers\n",
    "\n",
    "print(\"Imported pyhelayers\", pyhelayers.VERSION)\n",
    "\n",
    "pyhelayers.get_print_options().tt_demo_tiles = True"
   ]
  },
  {
   "cell_type": "markdown",
   "metadata": {
    "id": "IYiUgyl4JC40"
   },
   "source": [
    "To use pyhelayers we first need to initialize `HeContext` and a `TTEncoder` object.  \n",
    "(NOTE: to get help on pyhelayers or any of its classes type `help(pyhelayers)` or `help(pyhelayers.HeContext)`, etc...)\n",
    "\n",
    "An HeContext is the main object for accessing the underlying FHE encryption scheme. Once initialized, it generates the keys and all the other data structures required for working with FHE. It is an abstract class with several different concrete implementations, each for a different FHE scheme, or a different open source library implementing these schemes.\n",
    "\n",
    "In this notebook, we will use the `MockupContext`, which is a non-encrypted implementation for quick tests. However, HELayer's APIs abstract away the underlying details, so the same code can later be switched to work with a real FHE scheme by simply changing the HeContext creation.\n",
    "\n",
    "An `HeContext` is initialized with an `HeConfigRequirement` object that defines our requirements from the FHE scheme: e.g., the number of slots in a ciphertext, the maximal multiplication depth of the evaluated circuit, or the security level. For demonstration purposes, we use ciphertexts with only 8 slots. To this end, we create a configuration using the `insecure` method, which explicitly states that the security level is 0. This allows us to use the Mockup implementation.\n",
    "\n",
    "See the FHE basics demo for more details.\n",
    "\n",
    "Finally, a `TTEncoder` object is responsible for encrypting and decrypting tensors. How it works is the central focus of these demos. Note that in FHE there's also an encoding step which is a preprocessing step before encryption, and similarly a postprocessing decoding step after decryption. Hence, the encryption and decryption methods are called `encode_encrypt` and `decrypt_decode`. In some advanced scenarios, it is useful to perform these steps separately."
   ]
  },
  {
   "cell_type": "code",
   "execution_count": null,
   "metadata": {},
   "outputs": [],
   "source": [
    "# Initialize a mockup context with 8 slots. \n",
    "requirement = pyhelayers.HeConfigRequirement.insecure(\n",
    "    num_slots = 8,                  # Number of slots per ciphertext\n",
    "    multiplication_depth = 2,       # Allow 2 levels of multiplications\n",
    "    fractional_part_precision = 40, # Set the precision to 1/2^40.\n",
    "    integer_part_precision = 20    # Set the largest number to 2^20.\n",
    "    )\n",
    "\n",
    "# Use a mockup HE context and initialize it with the requirements object above.\n",
    "he_context = pyhelayers.MockupContext()\n",
    "he_context.init(requirement)\n",
    "\n",
    "# Create the Encoder using the context.\n",
    "encoder = pyhelayers.TTEncoder(he_context)\n",
    "\n",
    "print(\"Initialized a context with \", he_context.slot_count(), \" slots and an encoder object\")\n"
   ]
  },
  {
   "cell_type": "markdown",
   "metadata": {
    "id": "KyoV7sw-JC42"
   },
   "source": [
    "A $5 \\times 6$ matrix $M$ will serve as the plaintext for the demonstrations.\n",
    "\n"
   ]
  },
  {
   "cell_type": "code",
   "execution_count": null,
   "metadata": {},
   "outputs": [],
   "source": [
    "def genDemoMatrix(m, n):\n",
    "    \"\"\" Return an m x n matrix with values [0 ,..., m x n - 1].\n",
    "    \"\"\"\n",
    "    return np.arange(0, m*n).reshape((m, n))\n",
    "\n",
    "# Prepare a 5x6 matrix with values [0,...,29].\n",
    "M = genDemoMatrix(5,6)\n",
    "print(\"Plaintext matrix M=\\n\", M)"
   ]
  },
  {
   "cell_type": "markdown",
   "metadata": {
    "id": "U7yaVfFhJC44"
   },
   "source": [
    "<br>\n",
    "\n",
    "## Step 2. Different packings for the same matrix\n",
    "\n",
    "Different packings affect the performance characteristic of every HE solution. \n",
    "We now show how the same marix can be packed in different ways:\n",
    "<ul>\n",
    "    <li> Packing each row of $M$ in a ciphertext</li>\n",
    "    <li> Packing each column of $M$ in a ciphertext</li>\n",
    "    <li> Using a more flexible packing</li>\n",
    "</ul>\n",
    "\n",
    "### Step 2.1. Packing each row of M in a ciphertext\n",
    "We pack $M$ using tiles (ciphertexts) of shape $1 \\times 8$. This effectively places a single row in every ciphertext.\n",
    "Since we have 8 slots and each row has only 6 elements we end up with 8 - 6 = 2 unused slots in each ciphertext.\n",
    "\n",
    "To perform the packing we use the [TTShape object](https//add.a.link). This objects keeps a shape.\n",
    "Subsequently, we ask the encoder to encode and encrypt a tile tensor of M with the shape that we have just defined.\n",
    "\n",
    "When printing the resulting ciphertext $C$, we see the tile tensor shape $\\left[5, \\frac{6}{8}\\right]$ the chain index (CI), and the arrangement of the data inside 5 different tiles, i.e, the external tensor shape is $5 \\times 1$."
   ]
  },
  {
   "cell_type": "code",
   "execution_count": null,
   "metadata": {},
   "outputs": [],
   "source": [
    "shape = pyhelayers.TTShape([1, 8])\n",
    "C = encoder.encode_encrypt(shape, M)\n",
    "\n",
    "print(C)"
   ]
  },
  {
   "cell_type": "markdown",
   "metadata": {
    "id": "kKTmcyVkJC45"
   },
   "source": [
    "### Step 2.2. Packing each column of M in a ciphertext\n",
    "We pack $M$ using tiles (ciphertext) of shape $8 \\times 1$.\n",
    "This effectively places a singe column in every ciphertext.\n",
    "Since we have 8 slots and each row has only 5 elements we end up with 8-5=3 unused slots in each ciphertext, which we pad with zeros. \n",
    "Here, the tile tensor shape is $\\left[\\frac{5}{8}, 6\\right]$ and the external tensor shape is $1 \\times 6$."
   ]
  },
  {
   "cell_type": "code",
   "execution_count": null,
   "metadata": {},
   "outputs": [],
   "source": [
    "shape = pyhelayers.TTShape([8, 1])\n",
    "cvals = encoder.encode_encrypt(shape, M)\n",
    "\n",
    "print(cvals)"
   ]
  },
  {
   "cell_type": "markdown",
   "metadata": {
    "id": "nozXmHRvJC46"
   },
   "source": [
    "### Step 2.3. Packing with $2\\times 4$ block in each ciphertext\n",
    "In this example, we pack $M$ using tiles of shape $2 \\times 4$.\n",
    "This effectively divides the matrix to sub-blocks and places each one in a ciphertext.\n",
    "Since we have 5 rows which is not divisible by 2, the last row of tiles is padded with a row of zeros.\n",
    "The tile tensor shape is $\\left[\\frac{5}{2}, \\frac{6}{4}\\right]$ and the external tensor shape is $3 \\times 2$."
   ]
  },
  {
   "cell_type": "code",
   "execution_count": null,
   "metadata": {},
   "outputs": [],
   "source": [
    "shape = pyhelayers.TTShape([2, 4])\n",
    "cvals = encoder.encode_encrypt(shape, M)\n",
    "\n",
    "print(cvals)"
   ]
  },
  {
   "cell_type": "markdown",
   "metadata": {
    "id": "dx5mL1Q5JC47"
   },
   "source": [
    "### Question \n",
    "What shpe yields the minimal number of tiles when the number of slots in a ciphertext is 16?\n",
    "<details>\n",
    "    <summary> Answer </summary>\n",
    "\n",
    "Tile shape 1x16, Number of tiles = 5, Tile tensor shape = [5, 6/16]<br/>\n",
    "<b>Tile shape 2x8, Number of tiles = 3, Tile tensor shape = [5/2, 6/8]</b><br/>\n",
    "Tile shape 4x4, Number of tiles = 4, Tile tensor shape = [5/4, 6/4]<br/>\n",
    "<b>Tile shape 8x2, Number of tiles = 3, Tile tensor shape = [5/8, 6/2]</b><br/>\n",
    "Tile shape 16x1, Number of tiles = 6, Tile tensor shape = [5/16, 6]<br/><br/>    \n",
    "</details>\n",
    "\n",
    "<br/>\n",
    "What shape yields the minimal number of tiles when the number of slots in a ciphertext is 32? \n",
    "<br/>\n",
    "<details>\n",
    "    <summary> Answer </summary>\n",
    "Tile shape 1x32, Number of tiles = 5, Tile tensor shape = [5, 6/32]<br/>\n",
    "Tile shape 2x16, Number of tiles = 3, Tile tensor shape = [5/2, 6/16]<br/>\n",
    "<b>Tile shape 4x8, Number of tiles = 2, Tile tensor shape = [5/4, 6/8]</b><br/>\n",
    "    <b>Tile shape 8x4, Number of tiles = 2, Tile tensor shape = [5/8, 6/4]</b><br/>\n",
    "Tile shape 16x2, Number of tiles = 3, Tile tensor shape = [5/16, 6/2]<br/>\n",
    "Tile shape 32x1, Number of tiles = 6, Tile tensor shape = [5/32, 6]    <br/><br/>\n",
    "</details>\n",
    "\n",
    "<br/>\n",
    "Use the code below to test your results."
   ]
  },
  {
   "cell_type": "code",
   "execution_count": null,
   "metadata": {},
   "outputs": [],
   "source": [
    "# Set s with the required number of slots\n",
    "s = 16\n",
    "\n",
    "# Initialize a mockup context with 's' slots. \n",
    "requirement2 = pyhelayers.HeConfigRequirement.insecure(\n",
    "    num_slots = s,                  # Number of slots per ciphertext\n",
    "    multiplication_depth = 2,       # Allow 2 levels of multiplications\n",
    "    fractional_part_precision = 40, # Set the precision to 1/2^40.\n",
    "    integer_part_precision = 20    # Set the largest number to 2^20.\n",
    "    )\n",
    "\n",
    "# Use a mockup HE context and initialize it with the requirements object above.\n",
    "he_context2 = pyhelayers.MockupContext()\n",
    "he_context2.init(requirement2)\n",
    "\n",
    "# Create the Encoder using the context.\n",
    "encoder2 = pyhelayers.TTEncoder(he_context2)\n",
    "\n",
    "for i in range(int(math.log2(s))+1):\n",
    "    d1 = 2**i\n",
    "    d2 = int(s/d1)\n",
    "    shape2 = pyhelayers.TTShape([d1, d2])\n",
    "    cvals = encoder2.encode_encrypt(shape2, M)\n",
    "    print(f'Tile shape {d1}x{d2}, \\tNumber of tiles = {cvals.get_num_used_tiles()}, \\tTile tensor shape = {cvals.get_shape()}')\n"
   ]
  },
  {
   "cell_type": "markdown",
   "metadata": {
    "id": "zcjsoUbtJC48"
   },
   "source": [
    "## Step 3. Solving a batch of linear regression. \n",
    "\n",
    "A linear regression inference operation involves solving the equation $y = x \\cdot w$, where $x, w \\in \\mathbb{R}^d$ and $y \\in \\mathbb{R}$. When using CKKS, we would like to leverage its single instruction multiple data (SIMD) capabilities. Specifically, we would like to perform a batch of $n$ inference opertions at once.\n",
    "\n",
    "Let $X$ be the $n\\times d$ matrix which is the concatenation of $x_1, \\ldots, x_n \\in \\mathbb{R}^d$ samples. Then,\n",
    "$(y_1, \\ldots, y_n) = X \\cdot w \\in \\mathbb{R}^d$ is the linear regression output.\n",
    "\n",
    "Let's try a few different packing options. For that, we define the function `linearRegressionBatch` that receives $n$ and $d$ as its input and then perform a linear regression inference operation. The $alpha$ argument determines the log of the first tile size. The plaintext values are dummy values.\n"
   ]
  },
  {
   "cell_type": "code",
   "execution_count": null,
   "metadata": {},
   "outputs": [],
   "source": [
    "# A packing-oblivious function that get n and d. Then it generates an input matrix X and a weight vector w\n",
    "# computes y = Xw and returns it\n",
    "def linearRegressionBatch(n, d, alpha):\n",
    "    assert isinstance(alpha, int),                  \"alpha must be integer\"\n",
    "    assert alpha >= 0,                              \"alpha must be non-negative\"\n",
    "    assert pow(2,alpha) <= he_context.slot_count(), \"alpha must be smaller than log_2 n\"\n",
    "\n",
    "    he_context.start_operation_count_track()\n",
    "    \n",
    "    # Generate the input matrix X and weights vector w (in plaintext)\n",
    "    X = genDemoMatrix(n,d)\n",
    "    w = genDemoMatrix(1,d) \n",
    "\n",
    "    # Compute and set the tile tensors dimensions\n",
    "    nDim = pow(2,alpha)\n",
    "    dDim = he_context.slot_count() / nDim\n",
    "    shapeX = pyhelayers.TTShape([nDim, dDim])\n",
    "    shapeW = pyhelayers.TTShape([nDim, dDim]).get_with_duplicated_dim(0)\n",
    "    \n",
    "    # Encrypt the input matrix\n",
    "    cX = encoder.encode_encrypt(shapeX, X)\n",
    "    cW = encoder.encode_encrypt(shapeW, w)\n",
    "    \n",
    "    print(\"X tensor:\\n\", cX)\n",
    "    print(\"w tensor:\\n\",cW)\n",
    "\n",
    "    # Compute and print the inference results\n",
    "    cY = cX\n",
    "    cY.multiply_and_sum(cW,1)\n",
    "    print(\"y=\", cY)\n",
    "    print(he_context.get_stats_and_clear())\n",
    "    \n",
    "    # We return the number of used tiles in Y\n",
    "    return cY.get_num_used_tiles()"
   ]
  },
  {
   "cell_type": "markdown",
   "metadata": {
    "id": "V73BUAEAJC49"
   },
   "source": [
    "#### Linear regression with alpha=2 (nDim=4)"
   ]
  },
  {
   "cell_type": "code",
   "execution_count": null,
   "metadata": {},
   "outputs": [],
   "source": [
    "num_tiles=linearRegressionBatch(n=6, d=4, alpha=2)\n",
    "assert num_tiles==2"
   ]
  },
  {
   "cell_type": "markdown",
   "metadata": {
    "id": "USaRKQS-JC49"
   },
   "source": [
    "Notice the second column contains values that seem random. Can you understand what they are? \n",
    "\n",
    "<details>\n",
    "<summary>Hint</summary>\n",
    "1*1 + 4*0 + 3*3 + 6*2 = 22\n",
    "</details>\n",
    "\n",
    "#### Linear regression with alpha=0 (nDim=1)"
   ]
  },
  {
   "cell_type": "code",
   "execution_count": null,
   "metadata": {},
   "outputs": [],
   "source": [
    "num_tiles=linearRegressionBatch(6,4,0)\n",
    "assert num_tiles==6"
   ]
  },
  {
   "cell_type": "markdown",
   "metadata": {
    "id": "7jHYUSPVJC4-"
   },
   "source": [
    "#### Linear regression with alpha = 1 (nDim=2)"
   ]
  },
  {
   "cell_type": "code",
   "execution_count": null,
   "metadata": {},
   "outputs": [],
   "source": [
    "num_tiles=linearRegressionBatch(6,4,1)\n",
    "assert num_tiles==3"
   ]
  },
  {
   "cell_type": "markdown",
   "metadata": {
    "id": "ejq6HTdKJC4_"
   },
   "source": [
    "\n",
    "## Step 5. Up next\n",
    "\n",
    "In the above examples, we saw how even for a simple operation like linear regression the different packing have high effect on the number of tiles and thus on the number of operations. \n",
    "In the next notebook we are going to see how different packing options affect the performance of our code."
   ]
  }
 ],
 "metadata": {
  "kernelspec": {
   "display_name": "Python 3 (ipykernel)",
   "language": "python",
   "name": "python3"
  },
  "language_info": {
   "codemirror_mode": {
    "name": "ipython",
    "version": 3
   },
   "file_extension": ".py",
   "mimetype": "text/x-python",
   "name": "python",
   "nbconvert_exporter": "python",
   "pygments_lexer": "ipython3",
   "version": "3.8.10"
  }
 },
 "nbformat": 4,
 "nbformat_minor": 4
}

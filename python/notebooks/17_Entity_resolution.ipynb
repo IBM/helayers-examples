{
 "cells": [
  {
   "cell_type": "markdown",
   "metadata": {},
   "source": [
    "# Entity Resolution using Privacy Preserving Record Linkage\n",
    "expected memory usage: 250MB.  \n",
    "expected runtime: 10 seconds."
   ]
  },
  {
   "cell_type": "markdown",
   "metadata": {},
   "source": [
    "## Introduction\n",
    "\n",
    "This tutorial demonstrates the Privacy Preserving Record Linkage (PPRL) Protocol between two parties, called Alice and Bob.\n",
    "Alice and Bob both have their own DB with ~500,000 private records, and the objective here is for the two sides to learn which of their records match similar records in the other side's DB but nothing else (beyond also incidentally the number of records in the other side's DB). So for example, they don't get to learn anything about the non-similar records of the other side, nor the similar but possibly different fields of the identified similar record of the other side.\n",
    "\n",
    "The protocol is similar to the Private-Set-Intersection (PSI) protocol, except that it allowes for similarities rather than requiring exact equivalence of the reported candidate pairs. The similarity of the records is measured in terms of the Jaccard similarity index of the two records (see https://en.wikipedia.org/wiki/Jaccard_index) and uses min-hashing to estimate this similarity measure. For performance reasons, the Record-Linkage algorithm is statistical so that matched pairs of records probably have a high Jaccard similarity index.\n",
    "\n",
    "For example, in the datasets used below Alice's Datbase includes RecordA and Bob's Database includes RecordB.\n",
    "These records are not identical but their close similarity indicates that the very probably refer to the same entity\n",
    "as reported in the final match report at the end of the demo below.\n",
    "\n",
    "**RecordA**: Essie, Pocklington, Essie.Pocklington, ibm.com, 60259, 2800 Sawyer St, Tacoma,WA,98409, Box 69977, Clappertown, SD, USA, 91142, 3866, 623, 870, 8382\n",
    "\n",
    "**RecordB**: Essie, Pocklington, Essie.Pocklington, ibm.com, 60259, 2800 Sawyer St, Tacoma,WASHINGTON,98409, Box 69977, Clappertown, SD, USA, 91142, 3866, 623, 870, 8382\n"
   ]
  },
  {
   "cell_type": "code",
   "execution_count": null,
   "metadata": {},
   "outputs": [],
   "source": [
    "import utils \n",
    "\n",
    "utils.verify_memory()\n",
    "\n",
    "from pyhelayers import RecordLinkageConfig, RecordLinkageManager, RecordLinkageRule, RL_RULE_EQUAL, RL_RULE_SIMILAR, RL_RULE_NONE"
   ]
  },
  {
   "cell_type": "markdown",
   "metadata": {},
   "source": [
    "## Step 1. Define the Record-Linkage configuration\n",
    "Here we define the Record-Linkage configuration shared by both parties.\n",
    "This includes the list of record field names and some\n",
    "tuning of the Record-Linkage algorithm and heuristics."
   ]
  },
  {
   "cell_type": "code",
   "execution_count": null,
   "metadata": {},
   "outputs": [],
   "source": [
    "config = RecordLinkageConfig()\n",
    "fieldNames = [\"first_name\",\n",
    "              \"last_name\",\n",
    "              \"email\",\n",
    "              \"email_domain\",\n",
    "              \"address_number\",\n",
    "              \"address_location\",\n",
    "              \"address_line2\",\n",
    "              \"city\",\n",
    "              \"state\",\n",
    "              \"country\",\n",
    "              \"zip_base\",\n",
    "              \"zip_ext\",\n",
    "              \"phone_area_code\",\n",
    "              \"phone_exchange_code\",\n",
    "              \"phone_line_number\"]\n",
    "\n",
    "config.set_num_bands_and_size_bands(num_bands=100, size_bands=13)\n",
    "config.set_records_fields(fields_names=fieldNames, name_field_name=\"first_name\")"
   ]
  },
  {
   "cell_type": "markdown",
   "metadata": {},
   "source": [
    " ## Step 2. Define the Record-Linkage rules\n",
    " Here we define the rules by which we will consider two records as linked.\n",
    "  Each rule defines for each field a rule type - either RL_RULE_EQUAL,\n",
    "  RL_RULE_SIMILAR or RL_RULE_NONE (which is the default rule type).\n",
    "    - Fields with RL_RULE_EQUAL rule type implies that two records to be\n",
    "      considered linked if their content of these fields is exactly the same.\n",
    "    - Fields with RL_RULE_SIMILAR rule type implies that records to be\n",
    "      considered linked if their content of these fields have high Jaccard\n",
    "      simmilarity. We can also optionaly set the weight and size of shingles\n",
    "      generated for every such field.\n",
    "    - Fields with RL_RULE_NONE rule type are not taken into account in the record\n",
    "      linkage process\n",
    "  \n",
    "  For two records to be considered linked, ALL the conditions in the specific\n",
    "  rule must apply. For example, if first_name is set to RL_RULE_EQUAL and\n",
    "  address_location is set to RL_RULE_SIMILAR then two records considered\n",
    "  linked if their first_name content is equal AND their address_location\n",
    "  content is similar.\n",
    "  \n",
    "  We can run the protocol with a number of rules iteratively. Two records are\n",
    "  considered linked if at least one of the rules applies for them. The order\n",
    "  of the rules matter - After a record has been matched, it will not be\n",
    "  considered as a candidate at the following iterations.\n",
    "  Thus, defining multiple rules is not only useful for defining separate match \n",
    "  conditions, but can also be used to optimize the performance of the matching \n",
    "  process by placing fast-to-compute rules before slow-to-compute rules.\n",
    "  For example, testing for field equality is generally faster than testing for \n",
    "  field similarity, rule1 of this example is faster to   compute than rule2. \n",
    "  Rule1 is computed before rule2, so all the \"easy\" matches are first carried out \n",
    "  with rule1 and then the remaining \"hard\" cases are left for rule2."
   ]
  },
  {
   "cell_type": "code",
   "execution_count": null,
   "metadata": {},
   "outputs": [],
   "source": [
    "rule1 = RecordLinkageRule(config)\n",
    "rule1.set_field(\"last_name\", RL_RULE_EQUAL)\n",
    "rule1.set_field(\"city\", RL_RULE_EQUAL)\n",
    "rule1.set_field(\"address_location\", RL_RULE_SIMILAR, 1, 5)\n",
    "rule1.set_field(\"address_number\", RL_RULE_SIMILAR, 1, 5)\n",
    "\n",
    "rule2 = RecordLinkageRule(config)\n",
    "rule2.set_field(\"first_name\", RL_RULE_SIMILAR, 2, 4)\n",
    "rule2.set_field(\"last_name\", RL_RULE_SIMILAR, 2, 4)\n",
    "rule2.set_field(\"email\", RL_RULE_SIMILAR, 2, 4)\n",
    "rule2.set_field(\"phone_line_number\", RL_RULE_SIMILAR, 2, 4)\n",
    "rule2.set_field(\"address_location\", RL_RULE_SIMILAR, 1, 5)\n",
    "rule2.set_field(\"address_number\", RL_RULE_SIMILAR, 1, 5)\n",
    "rule2.set_field(\"city\", RL_RULE_SIMILAR, 1, 5)"
   ]
  },
  {
   "cell_type": "markdown",
   "metadata": {},
   "source": [
    " ## Step 3. Setup\n",
    " \n",
    " Setup the two Record-Linkage managers and load the records to be matched by them.\n",
    " Construct the RecordLinkageManager which manages the PPRL protocol."
   ]
  },
  {
   "cell_type": "code",
   "execution_count": null,
   "metadata": {},
   "outputs": [],
   "source": [
    "alice = RecordLinkageManager(config)\n",
    "bob = RecordLinkageManager(config)"
   ]
  },
  {
   "cell_type": "markdown",
   "metadata": {},
   "source": [
    "Read the Alice and Bob's tables from the pair of csv files.\n",
    "This step also processes the records (creates shingles and computes the min-hashes) and encrypts the processed information (thus plaing the part of the 1st party in a Diffie-Hellman like protocol)."
   ]
  },
  {
   "cell_type": "code",
   "execution_count": null,
   "metadata": {},
   "outputs": [],
   "source": [
    "INPUT_DIR = utils.get_data_sets_dir() + '/er/'\n",
    "num_records = 1000\n",
    "\n",
    "alice.init_records_from_file(INPUT_DIR + \"out1.csv\", num_records)\n",
    "bob.init_records_from_file(INPUT_DIR + \"out2.csv\", num_records)"
   ]
  },
  {
   "cell_type": "markdown",
   "metadata": {},
   "source": [
    "## Step 4. Match with rule1"
   ]
  },
  {
   "cell_type": "markdown",
   "metadata": {},
   "source": [
    "We are ready to start the first iteration. At each iteration we need to set the rule we want to run."
   ]
  },
  {
   "cell_type": "code",
   "execution_count": null,
   "metadata": {},
   "outputs": [],
   "source": [
    "alice.set_current_rule(rule1)\n",
    "bob.set_current_rule(rule1)"
   ]
  },
  {
   "cell_type": "markdown",
   "metadata": {},
   "source": [
    "Both sides exchange their encrypted data. At an iteration that runs with a rule that combines RL_RULE_EQUAL rule type fields and RL_RULE_SIMILAR rule type field, we must run the RL_RULE_EQUAL related functions first."
   ]
  },
  {
   "cell_type": "code",
   "execution_count": null,
   "metadata": {},
   "outputs": [],
   "source": [
    "packageAlice = alice.encrypt_fields_for_equal_rule()\n",
    "packageBob = bob.encrypt_fields_for_equal_rule()"
   ]
  },
  {
   "cell_type": "markdown",
   "metadata": {},
   "source": [
    "Both sides receive the encrypted information from the other side, and then add their own encryption layer (thus playing the part of the 2nd party in a Diffie-Hellman like protocol)."
   ]
  },
  {
   "cell_type": "code",
   "execution_count": null,
   "metadata": {},
   "outputs": [],
   "source": [
    "alice.apply_secret_key_to_records(packageBob)\n",
    "bob.apply_secret_key_to_records(packageAlice)"
   ]
  },
  {
   "cell_type": "markdown",
   "metadata": {},
   "source": [
    "  Both parties receives the doubly encrypted PPRL information of their own\n",
    "  records from the other party. They then processes this together with the\n",
    "  doubly encrypted PPRL information they computed for the other party's\n",
    "  records."
   ]
  },
  {
   "cell_type": "code",
   "execution_count": null,
   "metadata": {},
   "outputs": [],
   "source": [
    "alice.match_records_by_equal_rule(packageAlice, packageBob)\n",
    "bob.match_records_by_equal_rule(packageBob, packageAlice)"
   ]
  },
  {
   "cell_type": "markdown",
   "metadata": {},
   "source": [
    "We now run the RL_RULE_SIMILAR related functions"
   ]
  },
  {
   "cell_type": "code",
   "execution_count": null,
   "metadata": {},
   "outputs": [],
   "source": [
    "packageAlice = alice.encrypt_fields_for_similar_rule()\n",
    "packageBob = bob.encrypt_fields_for_similar_rule()\n",
    "\n",
    "alice.apply_secret_key_to_records(packageBob)\n",
    "bob.apply_secret_key_to_records(packageAlice)\n",
    "\n",
    "alice.match_records_by_similar_rule(packageAlice, packageBob)\n",
    "bob.match_records_by_similar_rule(packageBob, packageAlice)"
   ]
  },
  {
   "cell_type": "markdown",
   "metadata": {},
   "source": [
    "  At this point we finished the first iteration and are ready to run the next one\n",
    "  with the second rule. But before we proceed to it, we can check the current\n",
    "  matches we got."
   ]
  },
  {
   "cell_type": "code",
   "execution_count": null,
   "metadata": {},
   "outputs": [],
   "source": [
    "print('Found {0} matched records'.format(alice.get_num_matched_records()[0]))"
   ]
  },
  {
   "cell_type": "markdown",
   "metadata": {},
   "source": [
    "## Step 5. Match with rule2"
   ]
  },
  {
   "cell_type": "markdown",
   "metadata": {},
   "source": [
    "We proceed by setting the rule in the\n",
    "  RecordLinkageManager objects."
   ]
  },
  {
   "cell_type": "code",
   "execution_count": null,
   "metadata": {},
   "outputs": [],
   "source": [
    "alice.set_current_rule(rule2)\n",
    "bob.set_current_rule(rule2)"
   ]
  },
  {
   "cell_type": "markdown",
   "metadata": {},
   "source": [
    "Since the second rule contains only RL_RULE_SIMILAR rule type fields, we\n",
    "  can skip the RL_RULE_EQUAL related functions.\n",
    "  NOTICE: running the RL_RULE_EQUAL related function first is OK and will be\n",
    "  silently ignored.\n",
    "  In any case of confusion you can use the getNextExpectedFunctionName\n",
    "  function."
   ]
  },
  {
   "cell_type": "code",
   "execution_count": null,
   "metadata": {},
   "outputs": [],
   "source": [
    "packageAlice = alice.encrypt_fields_for_similar_rule()\n",
    "packageBob = bob.encrypt_fields_for_similar_rule()\n",
    "\n",
    "alice.apply_secret_key_to_records(packageBob)\n",
    "bob.apply_secret_key_to_records(packageAlice)\n",
    "\n",
    "alice.match_records_by_similar_rule(packageAlice, packageBob)\n",
    "bob.match_records_by_similar_rule(packageBob, packageAlice)"
   ]
  },
  {
   "cell_type": "markdown",
   "metadata": {},
   "source": [
    "## Step 6. Report the results\n",
    " \n",
    "Finally, we're ready to Compare the two sets of doubly encrypted PPRL\n",
    "information for the records of the two sides and report the matching pairs\n",
    "of records.\n",
    "  \n",
    "For every record of Alice that has a duplicate in Bob's table, the report\n",
    "includes the number of shared \"bands\" for the matched pair. This is a technical\n",
    "term that relates to the min-hash algorithm that is used to compare the\n",
    "records, but in general at least one shared band is required and sufficient\n",
    "to warrent a report of a probable candidate pair of records. More shared\n",
    "bands indicate a higher probability that the pair of records indeed\n",
    "describe the same entity.\n",
    "  \n",
    "Thus the following example indicates that the reported record from Alice's\n",
    "DB has an identical record in Bob's DB (with all the 100 bands matching).\n",
    "\n",
    "**RecordA**: Fredericka, Martin, Fredericka.Martin, stanford.edu, 28598, 150\n",
    "  Dewey St,\n",
    "    Mountain Home,ID,83647, Suite 68325, Bozoo, OH, USA, 81783, 5338, 458,\n",
    "    845, 8312\n",
    "\n",
    "**RecordB**: Fredericka, Martin, Fredericka.Martin, stanford.edu, 28598, 150\n",
    "  Dewey St,\n",
    "    Mountain Home,ID,83647, Suite 68325, Bozoo, OH, USA, 81783, 5338, 458,\n",
    "    845, 8312\n",
    "  Number of matching bands: 100\n",
    "  \n",
    "The following example indicates that the reported record from Alice's\n",
    "DB has a similar though not identical record in Bob's DB (with just one matching band).\n",
    "\n",
    "**RecordA**: Essie, Pocklington, Essie.Pocklington, ibm.com, 60259, 2800 Sawyer St, Tacoma,WA,98409, Box 69977, Clappertown, SD, USA, 91142, 3866, 623, 870, 8382\n",
    "\n",
    "**RecordB**: Essie, Pocklington, Essie.Pocklington, ibm.com, 60259, 2800 Sawyer St, Tacoma,WASHINGTON,98409, Box 69977, Clappertown, SD, USA, 91142, 3866, 623, 870, 8382\n",
    "\n",
    " Number of matching bands: 1\n",
    "  \n",
    "Note that the printout produced here prints Alice's record and also Bob's\n",
    "matching record. This is possible here because this program has access both\n",
    "to Alice's and Bob's records and the print method called by alice below\n",
    "indeed receives Bob's table information. This is for debuging purposes\n",
    "only, and a more realistic application would call\n",
    "  int numMatches = alice.report_matched_records()\n",
    "which would only print the records of Alice that have a similar record in\n",
    "Bob's table but not actually print Bob's record."
   ]
  },
  {
   "cell_type": "code",
   "execution_count": null,
   "metadata": {},
   "outputs": [],
   "source": [
    "res = alice.get_num_matched_records()\n",
    "num_matches = res[0]\n",
    "num_blocked = res[1]\n",
    "print(\"Number of records analyzed from Alice's side: \", alice.get_num_of_records())\n",
    "print(\"Number of records analyzed from Bob's side  : \", bob.get_num_of_records())\n",
    "print(\"Number of matches similar records           : \", num_matches)\n",
    "print(\"Number of blocked records                   : \", num_blocked)\n",
    "print(\"RAM usage                                   : \", utils.get_used_ram(), \"MB\")"
   ]
  },
  {
   "cell_type": "code",
   "execution_count": null,
   "metadata": {},
   "outputs": [],
   "source": [
    "alice.report_matched_records_along_with_other_side_records(bob, True)"
   ]
  },
  {
   "cell_type": "code",
   "execution_count": null,
   "metadata": {},
   "outputs": [],
   "source": [
    "assert num_matches == 100"
   ]
  },
  {
   "cell_type": "markdown",
   "metadata": {},
   "source": [
    "#### References:\n",
    "\n",
    "<sub><sup> 1.\tLeskovec, J., Rajaraman, A., & Ullman, J. (2014). Finding Similar Items. In Mining of Massive Datasets (pp. 68-122). Cambridge: Cambridge University Press. doi:10.1017/CBO9781139924801.004 </sup></sub>\n"
   ]
  }
 ],
 "metadata": {
  "kernelspec": {
   "display_name": "Python 3 (ipykernel)",
   "language": "python",
   "name": "python3"
  },
  "language_info": {
   "codemirror_mode": {
    "name": "ipython",
    "version": 3
   },
   "file_extension": ".py",
   "mimetype": "text/x-python",
   "name": "python",
   "nbconvert_exporter": "python",
   "pygments_lexer": "ipython3",
   "version": "3.8.10"
  },
  "vscode": {
   "interpreter": {
    "hash": "31f2aee4e71d21fbe5cf8b01ff0e069b9275f58929596ceb00d14d90e3e16cd6"
   }
  }
 },
 "nbformat": 4,
 "nbformat_minor": 4
}

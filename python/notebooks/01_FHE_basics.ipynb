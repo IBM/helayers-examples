{
 "cells": [
  {
   "cell_type": "markdown",
   "metadata": {},
   "source": [
    "# FHE Basics\n"
   ]
  },
  {
   "cell_type": "markdown",
   "metadata": {},
   "source": [
    "## Introduction\n",
    "This notebook introduces you to the basic types of operations that you can do with FHE including encoding, decoding, encrypting, decrypting, addition, multiplicaton, and rotation.\n",
    "<br>  "
   ]
  },
  {
   "cell_type": "markdown",
   "metadata": {},
   "source": [
    "## Step 1. Import pyhelayers library\n",
    "\n",
    "Pyhelayers library is the Python API for HELayers. As with all python libraries, before anything can be done, it needs to be imported."
   ]
  },
  {
   "cell_type": "code",
   "execution_count": null,
   "metadata": {},
   "outputs": [],
   "source": [
    "import pyhelayers\n",
    "import utils \n",
    "utils.verify_memory()\n",
    "# Print the ciphertext content for demo purposes\n",
    "pyhelayers.get_print_options().print_encrypted_content=True \n",
    "print(\"Imported pyhelayers\", pyhelayers.VERSION)"
   ]
  },
  {
   "cell_type": "markdown",
   "metadata": {},
   "source": [
    "<br>\n",
    "\n",
    "## Step 2. Create the context\n",
    "\n",
    "A `Context` is the main HE object. It receives the configuration parameters, and initializes all the required mathemtical constructs. It also generates the keys and supplies various services. In pyhelayers it also stores the keys.\n",
    "\n",
    "Configuring the context correctly is key to achieving the desired results when using homomorphic encryption, and its parameters depend on the nature of the problem to be solved.\n",
    "\n",
    "Pyhelayers library includes the ability for optimizing the parameters of the context, which is explored in the various notebooks. In this notebook, a number of parameters are set manually to illustrate how a `Context` can be configured.\n",
    "\n",
    "However, before a `Context` can be created, it requires some configuration details to be defined. \n",
    "\n",
    "In the example below we create a requirement object and define the security level, integer precision, fractional precision, multiplication depth (how many times the ciphertext can be multiplied), and ciphertext slot size, `num_slots`. A slot defines how large each ciphertext can be. This ciphertext has 8192 slots, i.e., it can hold 8192 numbers.\n",
    "\n",
    "Once requirements are set, an instance of `Context` is created, called `he_context`, and initialized with the requirements:\n"
   ]
  },
  {
   "cell_type": "code",
   "execution_count": null,
   "metadata": {},
   "outputs": [],
   "source": [
    "\n",
    "requirement = pyhelayers.HeConfigRequirement(\n",
    "    num_slots = 8192, # Number of slots per ciphertext\n",
    "    multiplication_depth = 2, # Allow 2 levels of multiplications\n",
    "    fractional_part_precision = 40, # Set the precision to 1/2^40.\n",
    "    integer_part_precision = 20, # Set the largest number to 2^20.\n",
    "    security_level = 128)\n",
    "\n",
    "he_context = pyhelayers.DefaultContext()\n",
    "he_context.init(requirement)"
   ]
  },
  {
   "cell_type": "markdown",
   "metadata": {},
   "source": [
    "<br>\n",
    "\n",
    "## Step 3. Perform basic Homomorphic Encryption operations\n",
    "\n",
    "Once the `Context` has been created and initialized, we can use it for different operations. Next we will showcase basic mathematical operations done using `pyhelayers`. Note that while carrying out these operations the data always remains encrypted and never gets decrypted even during computation.\n",
    "<br>\n",
    "\n",
    "### Encoding, decoding, encrypting and decrypting\n",
    "In HE, the encryption process from the user perspective actually involves two steps: encoding and then encrypting. Similarly the decryption involves decrypting and then decoding.\n",
    "<br>\n",
    "\n",
    "The encoding step takes the input data and **encodes** it into plaintext form that can then be **encrypted** into the ciphertext using the public key. The homomorphic computations are done by manipulating the ciphertexts, and when this is done, the holder of the secret key can **decrypt** the resulting ciphertext back into plaintext form. Finally, the plaintext should be **decoded** in order to extract the resulting values (with possible noise).\n",
    "\n",
    "Thus, for example:\n",
    "\n",
    "> X + Y =~ decode( decrypt( encrypt( encode(X)) + encrypt(encode(Y)) ) )\n",
    "\n",
    "For example in some schemes (like CKKS) the input data is a vector of values that need to be encrypted, the encoded plaintext is a polynomial, and the ciphertext is a pair of polynomials.\n",
    "\n",
    "The role of the encoding step is just to represent the input data in a form that can be encrypted in the encryption step, and it does not provide any security. In other words, anyone may decode the plaintext to reveal the encoded values, without requiring any secret key for this decoding operation. All the security of the scheme comes from the encryption step, which encrypts the encoded plaintext into the ciphertext in such a way that it can only be efficiently decrypted by using the secret key.\n",
    "<br>\n",
    "<br>\n",
    "In this example a ciphertext is created from the vector `[1.0, 2.0, 3.0]`.  Using an instance of `Encoder` named `encoder`, `v1` is encrypted and stored in `c1` by calling `encoder.encode_encrypt(v1)`.  It is then decrypted with `encoder.decrypt_decode_double(c1)` and stored in `d1`.  \n",
    "\n",
    "\n",
    "The `Encoder` allows converting values to (and from) their encrypted form:"
   ]
  },
  {
   "cell_type": "code",
   "execution_count": null,
   "metadata": {},
   "outputs": [],
   "source": [
    "# Create the Encoder using the context.\n",
    "encoder = pyhelayers.Encoder(he_context)\n",
    "\n",
    "# Encode a vector.\n",
    "v1 = [1.0, 2.0, 3.0]\n",
    "c1 = encoder.encode_encrypt(v1)\n",
    "# Decode the encoded vector.\n",
    "d1 = encoder.decrypt_decode_double(c1)"
   ]
  },
  {
   "cell_type": "markdown",
   "metadata": {},
   "source": [
    "The previous cell illustrates the \"round-trip\" encrypting and decrypting of a small vector.  Printing out what is stored in the variables can help illustrate what is happening at each step.  Note that operations in homomorphic encryption involve in a configurable loss of precision:"
   ]
  },
  {
   "cell_type": "code",
   "execution_count": null,
   "metadata": {},
   "outputs": [],
   "source": [
    "print('Initial vector:   {}'.format(v1))\n",
    "print('Encrypted vector: {}'.format(c1))\n",
    "print('Decoded vector:   {}'.format(d1[:3]))"
   ]
  },
  {
   "cell_type": "markdown",
   "metadata": {},
   "source": [
    "The result of encrypting a vector (`c1` in the snippet above) is a `CTile`, which represents a single ciphertext (a single ciphertext in HE usually can hold an entire vector).\n",
    "\n",
    "The encrypted CTile objects contain a series of methods that can be used for performing operations on them directly, as shown on the following sections.\n",
    "<br>\n",
    "\n",
    "### Addition\n",
    "Adding two encrypted vectors can be performed by the `.add()` method on the first `CTile`:"
   ]
  },
  {
   "cell_type": "code",
   "execution_count": null,
   "metadata": {},
   "outputs": [],
   "source": [
    "v2 = [4.0, 5.0, 6.0]\n",
    "c2 = encoder.encode_encrypt(v2)\n",
    "c1.add(c2)\n",
    "print('Result: {}'.format(encoder.decrypt_decode_double(c1)[:3]))"
   ]
  },
  {
   "cell_type": "markdown",
   "metadata": {},
   "source": [
    "## Average\n",
    "Average 3 encrypted vectors can be performed by adding their 3 ciphertexts and multiply with the plaintext of 1/3:"
   ]
  },
  {
   "cell_type": "code",
   "execution_count": null,
   "metadata": {},
   "outputs": [],
   "source": [
    "v1 = [1.0, 5.0, 13.0]\n",
    "c1 = encoder.encode_encrypt(v1)\n",
    "\n",
    "v2 = [2.0, 7.0, 17.0]\n",
    "c2 = encoder.encode_encrypt(v2)\n",
    "\n",
    "v3 = [3.0, 1.0, 19.0]\n",
    "c3 = encoder.encode_encrypt(v3)\n",
    "\n",
    "c1.add(c2) \n",
    "c1.add(c3)\n",
    "c1.multiply_scalar(1/3)\n",
    "\n",
    "print('Result: {}'.format(encoder.decrypt_decode_double(c1)[:3]))"
   ]
  },
  {
   "cell_type": "markdown",
   "metadata": {},
   "source": [
    "### Multiplication\n",
    "In an analog manner to addition, multiplication can be performed using the `.multiply()` method:"
   ]
  },
  {
   "cell_type": "code",
   "execution_count": null,
   "metadata": {
    "tags": []
   },
   "outputs": [],
   "source": [
    "v3 = [7.0, 8.0, 9.0]\n",
    "c3 = encoder.encode_encrypt(v3)\n",
    "c1.multiply(c3)\n",
    "print('Result: {}'.format(encoder.decrypt_decode_double(c1)[:3]))"
   ]
  },
  {
   "cell_type": "markdown",
   "metadata": {},
   "source": [
    "### Rotation\n",
    "\n",
    "As another example of basic operations, the elements of an encrypted vector can be rotated by calling the `.rotate()` method:"
   ]
  },
  {
   "cell_type": "code",
   "execution_count": null,
   "metadata": {},
   "outputs": [],
   "source": [
    "c1.rotate(-1)\n",
    "print('Result: {}'.format(encoder.decrypt_decode_double(c1)[:3]))"
   ]
  },
  {
   "cell_type": "markdown",
   "metadata": {},
   "source": [
    "<br>\n",
    "\n",
    "## Step 4. Further help\n",
    "\n",
    "The pyhelayers documentation can be viewed using the 'help' function.  \n",
    "For example: `help(pyhelayers.CTile)`"
   ]
  },
  {
   "cell_type": "markdown",
   "metadata": {},
   "source": [
    "<br>\n",
    "\n",
    "## Step 5. Up next\n",
    "\n",
    " The other notebooks in this tutorial showcase how these primitives can be used in more realistic scenarios and expand on other concepts in the pyhelayers library. Try out the Neural Network Fraud Detection notebook next to understand how FHE can be applied to the Financial Services industry."
   ]
  }
 ],
 "metadata": {
  "interpreter": {
   "hash": "31f2aee4e71d21fbe5cf8b01ff0e069b9275f58929596ceb00d14d90e3e16cd6"
  },
  "kernelspec": {
   "display_name": "Python 3 (ipykernel)",
   "language": "python",
   "name": "python3"
  },
  "language_info": {
   "codemirror_mode": {
    "name": "ipython",
    "version": 3
   },
   "file_extension": ".py",
   "mimetype": "text/x-python",
   "name": "python",
   "nbconvert_exporter": "python",
   "pygments_lexer": "ipython3",
   "version": "3.8.10"
  }
 },
 "nbformat": 4,
 "nbformat_minor": 4
}

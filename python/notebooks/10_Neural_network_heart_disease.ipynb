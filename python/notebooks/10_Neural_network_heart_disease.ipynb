{
 "cells": [
  {
   "cell_type": "markdown",
   "metadata": {},
   "source": [
    "## Neural Network Heart Disease Detection using FHE\n",
    "\n",
    "#### This demo uses the Heart Disease dataset, originally taken from: https://archive.ics.uci.edu/ml/datasets/Heart+Disease\n",
    "\n",
    "This database contains 76 attributes, but all published experiments refer to using a subset of 14 of them. See citation at the bottom of the page."
   ]
  },
  {
   "cell_type": "code",
   "execution_count": null,
   "metadata": {},
   "outputs": [],
   "source": [
    "# Imports and misc. init\n",
    "import numpy as np\n",
    "import h5py\n",
    "import utils\n",
    "import pyhelayers\n",
    "\n",
    "utils.verify_memory()\n",
    "\n",
    "input_dir = utils.get_data_sets_dir() + \"/net_medical/\" # for the model and data\n",
    "\n",
    "# Load test data and labels\n",
    "with h5py.File(input_dir + \"x_test.h5\") as f:\n",
    "    x_test = np.array(f[\"x_test\"])\n",
    "with h5py.File(input_dir + \"y_test.h5\") as f:\n",
    "    y_test = np.array(f[\"y_test\"])\n",
    "plain_samples, labels = utils.extract_batch(x_test, y_test, 16, 0)\n",
    "\n",
    "# Load plain model\n",
    "hyper_params = pyhelayers.PlainModelHyperParams()\n",
    "nnp = pyhelayers.NeuralNetPlain()\n",
    "nnp.init_from_files(hyper_params, [input_dir + \"model.json\", input_dir + \"model.h5\"])\n",
    "print(\"loaded plain model\")\n",
    "\n",
    "# Automatic optimziations\n",
    "he_run_req = pyhelayers.HeRunRequirements()\n",
    "he_run_req.set_he_context_options([pyhelayers.DefaultContext()])\n",
    "he_run_req.optimize_for_batch_size(16)\n",
    "profile = pyhelayers.HeModel.compile(nnp, he_run_req)\n",
    "batch_size = profile.get_optimal_batch_size()\n",
    "context = pyhelayers.HeModel.create_context(profile)\n",
    "print('HE Context ready. Batch size=',batch_size)\n",
    "\n",
    "# Create encrypted network\n",
    "nn = pyhelayers.NeuralNet(context)\n",
    "nn.encode_encrypt(nnp, profile)\n",
    "\n",
    "# Encrypt input samples\n",
    "iop = nn.create_io_processor()\n",
    "samples = pyhelayers.EncryptedData(context)\n",
    "iop.encode_encrypt_inputs_for_predict(samples, [plain_samples])\n",
    "\n",
    "# MAIN PART:\n",
    "# Perform inference under encryption \n",
    "utils.start_timer()\n",
    "predictions = pyhelayers.EncryptedData(context)\n",
    "nn.predict(predictions, samples)\n",
    "duration=utils.end_timer('predict')\n",
    "utils.report_duration('predict per sample',duration/batch_size)\n",
    "\n",
    "# Decrypt results\n",
    "plain_predictions = iop.decrypt_decode_output(predictions)\n",
    "\n",
    "print('\\nclassification results')\n",
    "print('=========================================')\n",
    "for label,pred in zip(labels,plain_predictions):\n",
    "    print('Label:',('Healthy' if label==0 else 'Should talk with a Dr.'),end=', ')\n",
    "    print('Prediction:',('Healthy' if pred[0]<0.5 else 'Should talk with a Dr.'))    "
   ]
  },
  {
   "cell_type": "markdown",
   "metadata": {},
   "source": [
    "<br>\n",
    "\n",
    "Citation:\n",
    "\n",
    "<sub><sup> 1.\thttps://archive.ics.uci.edu/ml/datasets/Heart+Disease </sup></sub>\n",
    "\n",
    "<sub><sup> 2.\tDetrano, R., Janosi, A., Steinbrunn, W., Pfisterer, M., Schmid, J., Sandhu, S., Guppy, K., Lee, S., & Froelicher, V. (1989). International application of a new probability algorithm for the diagnosis of coronary artery disease. American Journal of Cardiology, 64,304--310.</sup></sub>\n",
    "\n",
    "<sub><sup> 3.\tDavid W. Aha & Dennis Kibler. \"Instance-based prediction of heart-disease presence with the Cleveland database.\"</sup></sub>\n",
    "\n",
    "<sub><sup> 4.\tGennari, J.H., Langley, P, & Fisher, D. (1989). Models of incremental concept formation. Artificial Intelligence, 40, 11--61.\n",
    " </sup></sub>"
   ]
  }
 ],
 "metadata": {
  "kernelspec": {
   "display_name": "Python 3 (ipykernel)",
   "language": "python",
   "name": "python3"
  },
  "language_info": {
   "codemirror_mode": {
    "name": "ipython",
    "version": 3
   },
   "file_extension": ".py",
   "mimetype": "text/x-python",
   "name": "python",
   "nbconvert_exporter": "python",
   "pygments_lexer": "ipython3",
   "version": "3.8.10"
  }
 },
 "nbformat": 4,
 "nbformat_minor": 4
}

{
 "cells": [
  {
   "cell_type": "markdown",
   "metadata": {},
   "source": [
    "# One-hot encoding demonstration\n",
    "expected memory usage: 2.3GB.  \n",
    "expected runtime: 15 seconds."
   ]
  },
  {
   "cell_type": "markdown",
   "metadata": {},
   "source": [
    "##  Introduction\n",
    "This notebook demonstrates calculation of one-hot encoding under homomorphic encryption. Given a ciphertext and a list of the possible values that it can contain, we calculate a list of indicator ciphertexts that indicates which slots in the source ciphertext contain each value. Formally, the i'th resulted indicator ciphertext will contains 1 in slot j only if the j'th slot in the source ciphertext contains the i'th value, and 0 otherwise."
   ]
  },
  {
   "cell_type": "markdown",
   "metadata": {},
   "source": [
    "### 1. We start with some imports:"
   ]
  },
  {
   "cell_type": "code",
   "execution_count": null,
   "metadata": {},
   "outputs": [],
   "source": [
    "import numpy as np\n",
    "import pyhelayers\n",
    "import utils \n",
    "\n",
    "utils.verify_memory()\n",
    "\n",
    "NUM_ELEMENTS_TO_SHOW = 16"
   ]
  },
  {
   "cell_type": "markdown",
   "metadata": {},
   "source": [
    "### 2. Now we initialize the context"
   ]
  },
  {
   "cell_type": "code",
   "execution_count": null,
   "metadata": {},
   "outputs": [],
   "source": [
    "requirement = pyhelayers.HeConfigRequirement(\n",
    "    num_slots = 2**14,\n",
    "    multiplication_depth = 10,\n",
    "    fractional_part_precision = 50,\n",
    "    integer_part_precision = 10)\n",
    "\n",
    "he_context = pyhelayers.DefaultContext()\n",
    "he_context.init(requirement)\n",
    "print(he_context.print_signature())"
   ]
  },
  {
   "cell_type": "markdown",
   "metadata": {},
   "source": [
    "### 3. Create input for the demonstration and calculate the expected output in plain"
   ]
  },
  {
   "cell_type": "code",
   "execution_count": null,
   "metadata": {},
   "outputs": [],
   "source": [
    "enc = pyhelayers.Encoder(he_context)\n",
    "\n",
    "possible_values = [0,1,2]\n",
    "input = np.random.choice(possible_values, size=he_context.slot_count())\n",
    "\n",
    "expected = [np.array([1 if elem==val else 0 for elem in input]) for val in possible_values]\n",
    "\n",
    "src = enc.encode_encrypt(input)\n",
    "\n",
    "print(\"Showing first \", NUM_ELEMENTS_TO_SHOW, \" elements...\\n\")\n",
    "print(\"Input for the demonstration:\\t\", input[:NUM_ELEMENTS_TO_SHOW], \"\\n\")\n",
    "for i in range(len(possible_values)):\n",
    "    print(\"Expected one-hot encoding for value \", possible_values[i],\": \", expected[i][:NUM_ELEMENTS_TO_SHOW])"
   ]
  },
  {
   "cell_type": "markdown",
   "metadata": {},
   "source": [
    "### 4. Calculate one-hot encoding under homomorphic encryption"
   ]
  },
  {
   "cell_type": "code",
   "execution_count": null,
   "metadata": {},
   "outputs": [],
   "source": [
    "fe = pyhelayers.FunctionEvaluator(he_context)\n",
    "\n",
    "with utils.elapsed_timer('one-hot', 1) as timer:\n",
    "    res = fe.one_hot(src, possible_values)"
   ]
  },
  {
   "cell_type": "markdown",
   "metadata": {},
   "source": [
    "### Results"
   ]
  },
  {
   "cell_type": "code",
   "execution_count": null,
   "metadata": {},
   "outputs": [],
   "source": [
    "print(\"Showing first \", NUM_ELEMENTS_TO_SHOW, \" elements...\\n\")\n",
    "print(\"Input for the demonstration:\\t\", input[:NUM_ELEMENTS_TO_SHOW], \"\\n\")\n",
    "\n",
    "for i in range(len(possible_values)):\n",
    "    plain_res = enc.decrypt_decode_int(res[i])\n",
    "    print(\"One-hot encoding calculated under FHE for value \", possible_values[i],\":\\t\", plain_res[:NUM_ELEMENTS_TO_SHOW])\n",
    "    print(\"Expected one-hot encoding for value \", possible_values[i],\":\\t\\t\", expected[i][:NUM_ELEMENTS_TO_SHOW], \"\\n\")\n",
    "    np.testing.assert_array_equal(plain_res, expected[i])"
   ]
  },
  {
   "cell_type": "code",
   "execution_count": null,
   "metadata": {},
   "outputs": [],
   "source": [
    "print(\"RAM usage:\", utils.get_used_ram(), \"MB\")"
   ]
  }
 ],
 "metadata": {
  "kernelspec": {
   "display_name": "Python 3.6.9 64-bit",
   "language": "python",
   "name": "python3"
  },
  "language_info": {
   "codemirror_mode": {
    "name": "ipython",
    "version": 3
   },
   "file_extension": ".py",
   "mimetype": "text/x-python",
   "name": "python",
   "nbconvert_exporter": "python",
   "pygments_lexer": "ipython3",
   "version": "3.6.9"
  },
  "vscode": {
   "interpreter": {
    "hash": "31f2aee4e71d21fbe5cf8b01ff0e069b9275f58929596ceb00d14d90e3e16cd6"
   }
  }
 },
 "nbformat": 4,
 "nbformat_minor": 4
}

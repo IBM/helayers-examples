{
 "cells": [
  {
   "cell_type": "markdown",
   "id": "436ce281",
   "metadata": {},
   "source": [
    "# Linear Regression Inference Using FHE\n",
    "expected memory usage: 950MB.  \n",
    "expected runtime: 10 seconds.\n",
    "\n",
    "## Introduction\n",
    "Linear regression is a supervised machine learning algorithm that is used to predict the value of a variable based on the value of another variable. The variable you want to predict is called the dependent variable. The variable you are using to predict the other variable's value is called the independent variable. Now we can do it fully encrypted.\n",
    "\n",
    "## Use case\n",
    "One potential FHE use case using Linear Regression is secure prediction of delivery status and can be applied to supply chain cases in a multitude of industries. \n",
    "\n",
    "In a supply chain, the impact of volatility can ripple throughout the entire supply chain and create delays, backlog, bottlenecks and other issues. With FHE, third-party logistics (3PL) providers can securely pool their own historical shipment information (e.g. source, destination, distance between them, mode of shipment transportation, etc.) in a Multi Enterprise Business Network (MEBN) to conduct secure predictions of delivery status and determine, in seconds, whether a shipment will be on time or not.  The reason we do this with FHE is because we expect that the 3PL providers would have access to sensitive data from across many different clients. "
   ]
  },
  {
   "cell_type": "markdown",
   "id": "be33ced4",
   "metadata": {},
   "source": [
    "<br>\n",
    "\n",
    "#### Step 1. Import pyhelayers"
   ]
  },
  {
   "cell_type": "code",
   "execution_count": null,
   "id": "600c790e",
   "metadata": {},
   "outputs": [],
   "source": [
    "import numpy as np\n",
    "import sys\n",
    "import pyhelayers\n",
    "import json\n",
    "import os\n",
    "import time\n",
    "import utils\n",
    "\n",
    "utils.verify_memory()\n",
    "\n",
    "print(\"misc. init ready\")"
   ]
  },
  {
   "cell_type": "markdown",
   "id": "e93ae6b9",
   "metadata": {},
   "source": [
    "<br>\n",
    "\n",
    "#### Step 2. Generate the plain model and save it into a file"
   ]
  },
  {
   "cell_type": "code",
   "execution_count": null,
   "id": "faef88ca",
   "metadata": {},
   "outputs": [],
   "source": [
    "# Create model data\n",
    "dims=39\n",
    "batch_size=4\n",
    "coefs=np.random.randn(1,dims)\n",
    "intercept=[0.1]\n",
    "\n",
    "# Save to json file\n",
    "model_json={}\n",
    "model_json['coef_']=coefs.tolist()\n",
    "model_json['intercept_']=intercept\n",
    "\n",
    "data_dir = os.path.join('data', 'linear_reg')\n",
    "if not os.path.exists(data_dir):\n",
    "    os.makedirs(data_dir)\n",
    "\n",
    "model_file=os.path.join(data_dir,'model.json')\n",
    "\n",
    "with open(model_file, 'w') as mf:\n",
    "    json.dump(model_json, mf)\n",
    "    \n",
    "\n",
    "# Populate plain model object\n",
    "hyper_params = pyhelayers.PlainModelHyperParams()\n",
    "hyper_params.logistic_regression_activation = pyhelayers.LRActivation.NONE\n",
    "plain = pyhelayers.PlainModel.create(hyper_params, [model_file])\n",
    "print(plain)"
   ]
  },
  {
   "cell_type": "markdown",
   "id": "8bb5b910",
   "metadata": {},
   "source": [
    "<br>\n",
    "\n",
    "#### Step 3. Compile the plain model"
   ]
  },
  {
   "cell_type": "code",
   "execution_count": null,
   "id": "41382cb0",
   "metadata": {},
   "outputs": [],
   "source": [
    "he_run_req = pyhelayers.HeRunRequirements()\n",
    "he_run_req.set_he_context_options([pyhelayers.DefaultContext()])\n",
    "\n",
    "he_run_req.optimize_for_batch_size(batch_size)\n",
    "\n",
    "profile = pyhelayers.HeModel.compile(plain, he_run_req)\n",
    "\n",
    "context = pyhelayers.HeModel.create_context(profile)\n",
    "\n",
    "print(\"He profile ready and context initialized\", context)\n"
   ]
  },
  {
   "cell_type": "markdown",
   "id": "866d3983",
   "metadata": {},
   "source": [
    "<br>\n",
    "\n",
    "#### Step 4. Construct an encrypted LinearRegression model as a LogisticRegression model with the activation function set to NONE"
   ]
  },
  {
   "cell_type": "code",
   "execution_count": null,
   "id": "ffb93b13",
   "metadata": {},
   "outputs": [],
   "source": [
    "# Encrypt model\n",
    "enc_model=pyhelayers.LogisticRegression(context)\n",
    "enc_model.encode_encrypt(plain, profile)\n",
    "print(\"Model encrypted\")"
   ]
  },
  {
   "cell_type": "markdown",
   "id": "315d973b",
   "metadata": {},
   "source": [
    "<br>\n",
    "\n",
    "#### Step 5. Run prediction and report results"
   ]
  },
  {
   "cell_type": "code",
   "execution_count": null,
   "id": "a43146e4",
   "metadata": {},
   "outputs": [],
   "source": [
    "iop = enc_model.create_io_processor()\n",
    "\n",
    "duration=0\n",
    "for i in range(3):\n",
    "    input=np.random.randn(batch_size,dims)\n",
    "\n",
    "    enc_input = pyhelayers.EncryptedData(context)\n",
    "    iop.encode_encrypt_inputs_for_predict(enc_input, [input])\n",
    "\n",
    "    start_time = time.perf_counter()\n",
    "    enc_res = pyhelayers.EncryptedData(context)\n",
    "    enc_model.predict(enc_res, enc_input)\n",
    "    duration += time.perf_counter() - start_time\n",
    "\n",
    "    res=iop.decrypt_decode_output(enc_res)\n",
    "\n",
    "    res=res.reshape(batch_size)\n",
    "    expected_res=np.inner(coefs,input)+intercept\n",
    "    expected_res = expected_res[0]\n",
    "    print(\"         Result\",res)\n",
    "    print(\"Expected result\",expected_res)\n",
    "    utils.report_duration(\"predict time (avg.)\",duration/(i+1))\n",
    "    print(\"\")"
   ]
  },
  {
   "cell_type": "code",
   "execution_count": null,
   "id": "46f494df",
   "metadata": {},
   "outputs": [],
   "source": [
    "print(\"RAM usage:\", utils.get_used_ram(), \"MB\")"
   ]
  }
 ],
 "metadata": {
  "interpreter": {
   "hash": "31f2aee4e71d21fbe5cf8b01ff0e069b9275f58929596ceb00d14d90e3e16cd6"
  },
  "kernelspec": {
   "display_name": "Python 3.6.9 64-bit",
   "name": "python3"
  },
  "language_info": {
   "codemirror_mode": {
    "name": "ipython",
    "version": 3
   },
   "file_extension": ".py",
   "mimetype": "text/x-python",
   "name": "python",
   "nbconvert_exporter": "python",
   "pygments_lexer": "ipython3",
   "version": "3.8.10"
  }
 },
 "nbformat": 4,
 "nbformat_minor": 5
}

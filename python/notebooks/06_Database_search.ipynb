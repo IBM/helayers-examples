{
 "cells": [
  {
   "cell_type": "markdown",
   "metadata": {},
   "source": [
    "# Privacy Preserving Search\n",
    "\n",
    "## Introduction\n",
    "This example demonstrates a privacy preserving search against an encrypted database and shows that you can return the matching encrypted value without learning anything about the database and without the server learning anything about your query. The database is a key value store prepopulated with the English names of countries and their capital cities from around the world. Selecting the country will use HElib to perform a search of the matching capital. BGV refers to the encryption scheme used in the demo. This specific demo will walk you through how to perform an encrypted query on an encrypted data set to find out the capital city of the country of Albania.\n",
    "\n",
    "**NOTE: this demo implements a simple database search algorithm for demonstration purposes.**\n",
    "\n",
    "## Use case\n",
    "In a cyber attack, databases are often the most crucial infrastructure to protect. It may cost an organization a considerable fine if data were leaked and may damage a company's reputation in the process. With FHE, in the case of a breach, the database would remain encrypted at all times and can only be decrypted by the private key held by the data owner - maintaining confidentiality at all times and preventing unauthorized access to the database.\n",
    "\n",
    "Privacy preserving search is a common scenario to demonstrate the benefits of homomorphic encryption. Being able to perform a query while preserving the privacy and confidentiality of the parameters of the query has many applications across various industry segments spanning from genomics to finance. This example uses a simple and easy to follow algorithm that demonstrates how one can use homomorphic encryption based techniques to generate a mask to retrieve data from a key-value pair database. It uses a dataset that is understandable for users across all industries and expertise levels.\n",
    "\n",
    "With respect to realism of data, the dataset takes into account countries of the world. In a real use case, this could be information on customers or financial records for example. This is an educational example so a small dataset was needed to ensure timely responses and that it was relevant for all users.\n",
    "\n",
    "<br>"
   ]
  },
  {
   "cell_type": "code",
   "execution_count": 14,
   "metadata": {},
   "outputs": [],
   "source": [
    "def string_to_ascii(str):\n",
    "    return [ord(c) for c in str]"
   ]
  },
  {
   "cell_type": "markdown",
   "metadata": {},
   "source": [
    "<br>\n",
    "\n",
    "## Step 1. Import and initialize"
   ]
  },
  {
   "cell_type": "code",
   "execution_count": 15,
   "metadata": {},
   "outputs": [],
   "source": [
    "import os\n",
    "import csv\n",
    "import copy\n",
    "import pyhelayers\n",
    "import utils\n",
    "print(\"misc. init ready\")"
   ]
  },
  {
   "cell_type": "code",
   "execution_count": 16,
   "metadata": {},
   "outputs": [],
   "source": [
    "\n",
    "db_filename = os.path.join(utils.get_data_sets_dir(), \"countries\", \"countries.csv\") # input database file name\n",
    "country_name = \"Albania\" # country to get its capital\n",
    "print(\"input parameters ready.\")"
   ]
  },
  {
   "cell_type": "markdown",
   "metadata": {},
   "source": [
    "<br>\n",
    "\n",
    "## Step 2. Initialize FHE parameters\n",
    "Note: Although we can hide them away, for demonstration purposes, we show you the parameters (e.g. cyclotomic polynomial) here. The parameters have been chosen to provide a somewhat faster running time with a non-realistic security level. Do not use these parameters in real applications."
   ]
  },
  {
   "cell_type": "code",
   "execution_count": 17,
   "metadata": {},
   "outputs": [],
   "source": [
    "conf = pyhelayers.HelibConfig()\n",
    "conf.p = 127 # Plaintext prime modulus\n",
    "# this will give 32 slots\n",
    "conf.m = 128 # Cyclotomic polynomial - defines phi(m)\n",
    "conf.r = 1 # Hensel lifting\n",
    "conf.L = 1000 # Number of bits of the modulus chain\n",
    "conf.c = 2 # Number of columns of Key-Switching matrix\n",
    "print(\"configruation ready\")"
   ]
  },
  {
   "cell_type": "markdown",
   "metadata": {},
   "source": [
    "<br>\n",
    "\n",
    "## Step 3. Initialize HElib BGV Context"
   ]
  },
  {
   "cell_type": "code",
   "execution_count": 18,
   "metadata": {},
   "outputs": [],
   "source": [
    "utils.start_timer()\n",
    "he = pyhelayers.HelibBgvContext()\n",
    "he.init(conf)\n",
    "print(he)\n",
    "utils.end_timer(\"Initializing HE context\")"
   ]
  },
  {
   "cell_type": "code",
   "execution_count": 19,
   "metadata": {},
   "outputs": [],
   "source": [
    "assert(he.get_traits().is_modular_arithmetic)\n",
    "assert(he.get_traits().arithmetic_modulus >= 127)\n",
    "print (\"asserts passed\")"
   ]
  },
  {
   "cell_type": "markdown",
   "metadata": {},
   "source": [
    "<br>\n",
    "\n",
    "## Step 4. Read world countries database from file\n",
    "The code below will make sure no string is longer than he.slot_count()."
   ]
  },
  {
   "cell_type": "code",
   "execution_count": 20,
   "metadata": {},
   "outputs": [],
   "source": [
    "country_db = []\n",
    "with open(db_filename, encoding=\"utf8\") as db_file_csv:\n",
    "    csv_reader = csv.reader(db_file_csv, delimiter=',')\n",
    "    for row in csv_reader:\n",
    "        ascii_country = string_to_ascii(row[0])\n",
    "        ascii_capital = string_to_ascii(row[1])\n",
    "\n",
    "        if len(row[0]) > he.slot_count():\n",
    "            raise RunTimeError(\"Country name \", row[0], \" too long\")\n",
    "        if len(row[1]) > he.slot_count():\n",
    "            raise RunTimeError(\"Capital name \", row[1], \" too long\")\n",
    "        country_db.append((ascii_country, ascii_capital))\n",
    "print(\"finished reading database\")"
   ]
  },
  {
   "cell_type": "markdown",
   "metadata": {},
   "source": [
    "<br>\n",
    "\n",
    "## Step 5. Encrypt the database"
   ]
  },
  {
   "cell_type": "code",
   "execution_count": 22,
   "metadata": {},
   "outputs": [],
   "source": [
    "utils.start_timer()\n",
    "enc = pyhelayers.Encoder(he)\n",
    "encrypted_country_db = []\n",
    "for country_str, capital_str in country_db:\n",
    "    country_ctxt = enc.encode_encrypt(country_str)\n",
    "    capital_ctxt = enc.encode_encrypt(capital_str)\n",
    "    encrypted_country_db.append((country_ctxt, capital_ctxt))\n",
    "utils.end_timer(\"Encrypting DB\")"
   ]
  },
  {
   "cell_type": "markdown",
   "metadata": {},
   "source": [
    "<br>\n",
    "\n",
    "## Step 6. Encrypt the query"
   ]
  },
  {
   "cell_type": "code",
   "execution_count": 23,
   "metadata": {},
   "outputs": [],
   "source": [
    "utils.start_timer()\n",
    "country_name_ascii = string_to_ascii(country_name)\n",
    "encrypted_query = enc.encode_encrypt(country_name_ascii)\n",
    "utils.end_timer(\"Encrypting Query\")"
   ]
  },
  {
   "cell_type": "markdown",
   "metadata": {},
   "source": [
    "<br>\n",
    "\n",
    "## Step 7. Perform the encrypted database search"
   ]
  },
  {
   "cell_type": "code",
   "execution_count": 24,
   "metadata": {},
   "outputs": [],
   "source": [
    "utils.start_timer()\n",
    "eval = pyhelayers.NativeFunctionEvaluator(he)\n",
    "mask = []\n",
    "\n",
    "n = he.slot_count()\n",
    "is_power_of_2 = (n & (n-1) == 0)\n",
    "\n",
    "# For every entry in the database we perform the following calculation:\n",
    "for country,capital in encrypted_country_db:\n",
    "    # Copy of database key: a country name\n",
    "    mask_entry = country\n",
    "    # Calculate the difference.\n",
    "    # In each slot now we'll have 0 when characters match,\n",
    "    # or non-zero when there's a mismatch.\n",
    "    mask_entry.sub(encrypted_query)\n",
    "\n",
    "    # Fermat's little theorem:\n",
    "    # Since the underlying plaintext are in modular arithmetic,\n",
    "    # Raising to the power of modulusP convers all non-zero values to 1.\n",
    "    eval.power_in_place(mask_entry, conf.p - 1)\n",
    "\n",
    "    # Negate the ciphertext.\n",
    "    # Now we'll have 0 for match, -1 for mismatch.\n",
    "    mask_entry.negate()\n",
    "\n",
    "    # Add 1.\n",
    "    # Now we'll have 0 for match, -1 for mismatch.\n",
    "    mask_entry.add_scalar(1)\n",
    "\n",
    "    # We'll now multiply all slots together, since\n",
    "    # we want a complete match across all slots\n",
    "        # If slot count is a power of 2 there's an efficient way to do it:\n",
    "        # we'll do a rotate-and-multiply algorithm, similar to\n",
    "        # a rotate-and-sum one.\n",
    "    if is_power_of_2:\n",
    "        rot = 1\n",
    "        while rot < he.slot_count():\n",
    "            tmp = copy.deepcopy(mask_entry)\n",
    "            tmp.rotate(-rot)\n",
    "            mask_entry.multiply(tmp)\n",
    "            rot *= 2 \n",
    "    else:\n",
    "        # Otherwise we'll create all possible rotations, and multiply all of\n",
    "        # them.\n",
    "        # Note that for non powers of 2 a rotate-and-multiply algorithm\n",
    "        # can still be used as well, though it's more complicated and\n",
    "        # beyond the scope of this example.\n",
    "        rotated_masks = pyhelayers.CTileVector([mask_entry] * he.slot_count())\n",
    "        for i in range(1, he.slot_count()):\n",
    "            rotated_masks[i].rotate(-i)\n",
    "        mask_entry = eval.total_product(rotated_masks, he)\n",
    "\n",
    "    # mask_entry is now either all 1s if query==country,\n",
    "    # or all 0s otherwise.\n",
    "    # After we multiply by capital name it will be either\n",
    "    # the capital name, or all 0s.\n",
    "    mask_entry.multiply(capital)\n",
    "    # We collect all our findings\n",
    "    mask.append(mask_entry)\n",
    "\n",
    "# Aggregate results into a single ciphertext\n",
    "value = mask[0]\n",
    "for i in range(1, len(mask)):\n",
    "    value.add(mask[i])\n",
    "utils.end_timer(\"Query search\")\n",
    "        \n",
    "    "
   ]
  },
  {
   "cell_type": "markdown",
   "metadata": {},
   "source": [
    "<br>\n",
    "\n",
    "## Step 8. Decrypt the result"
   ]
  },
  {
   "cell_type": "code",
   "execution_count": 25,
   "metadata": {},
   "outputs": [],
   "source": [
    "utils.start_timer()\n",
    "ascii_result = enc.decrypt_decode_int(value)\n",
    "utils.end_timer(\"Decrypting result\")"
   ]
  },
  {
   "cell_type": "markdown",
   "metadata": {},
   "source": [
    "<br>\n",
    "\n",
    "## Step 9. Print the result"
   ]
  },
  {
   "cell_type": "code",
   "execution_count": 26,
   "metadata": {},
   "outputs": [],
   "source": [
    "string_result = ''.join(chr(c) for c in ascii_result)\n",
    "\n",
    "if string_result[0] == 0x00:\n",
    "    string_result = \"Country name not in the database.\\n*** Please make sure \"\n",
    "    \"to enter the name of a country\\n*** with the \"\n",
    "    \"first letter in upper case.\"\n",
    "print(\"\\nQuery result: \", string_result)\n"
   ]
  }
 ],
 "metadata": {
  "kernelspec": {
   "display_name": "Python 3 (ipykernel)",
   "language": "python",
   "name": "python3"
  },
  "language_info": {
   "codemirror_mode": {
    "name": "ipython",
    "version": 3
   },
   "file_extension": ".py",
   "mimetype": "text/x-python",
   "name": "python",
   "nbconvert_exporter": "python",
   "pygments_lexer": "ipython3",
   "version": "3.7.11"
  },
  "metadata": {
   "interpreter": {
    "hash": "31f2aee4e71d21fbe5cf8b01ff0e069b9275f58929596ceb00d14d90e3e16cd6"
   }
  }
 },
 "nbformat": 4,
 "nbformat_minor": 4
}
